{
 "cells": [
  {
   "cell_type": "markdown",
   "id": "d752ef3c",
   "metadata": {},
   "source": [
    "## Análisis Exploratorio de Datos – Viajeros 2023"
   ]
  },
  {
   "cell_type": "markdown",
   "id": "efd400fc",
   "metadata": {},
   "source": [
    "## 1. Importación de librerías y carga de datos"
   ]
  },
  {
   "cell_type": "code",
   "execution_count": null,
   "id": "39a12984",
   "metadata": {},
   "outputs": [],
   "source": [
    "\n",
    "import pandas as pd\n",
    "import numpy as np\n",
    "import matplotlib.pyplot as plt\n",
    "import seaborn as sns\n",
    "\n",
    "# Cargar datos y diccionario\n",
    "ruta_datos = \"viajeros_2023_datos_abiertos_final.xlsx\"\n",
    "ruta_diccionario = \"diccionario-de-datos_viajeros_2023-da.xlsx\"\n",
    "\n",
    "df = pd.read_excel(ruta_datos)\n",
    "dic = pd.read_excel(ruta_diccionario, header=0).iloc[:, :2]\n",
    "dic.columns = [\"variable\", \"descripcion\"]\n",
    "dic[\"variable\"] = dic[\"variable\"].astype(str).str.strip()\n"
   ]
  },
  {
   "cell_type": "markdown",
   "id": "c056e8b5",
   "metadata": {},
   "source": [
    "\n",
    "**Explicación:** Se importan las librerías necesarias y se cargan tanto los datos principales como el diccionario de variables.\n"
   ]
  },
  {
   "cell_type": "markdown",
   "id": "887a5d19",
   "metadata": {},
   "source": [
    "## 2. Creación del resumen de metadatos"
   ]
  },
  {
   "cell_type": "code",
   "execution_count": null,
   "id": "bd34e18a",
   "metadata": {},
   "outputs": [],
   "source": [
    "\n",
    "meta = pd.DataFrame({\n",
    "    \"variable\": df.columns,\n",
    "    \"tipo_dato\": df.dtypes.astype(str).values,\n",
    "    \"valores_nulos_%\": (df.isnull().sum().values / len(df) * 100).round(2)\n",
    "}).merge(dic, on=\"variable\", how=\"left\")\n",
    "\n",
    "meta.head(10)\n"
   ]
  },
  {
   "cell_type": "markdown",
   "id": "655cd8df",
   "metadata": {},
   "source": [
    "\n",
    "**Explicación:** Esta tabla resume todas las variables, su tipo de dato, porcentaje de valores nulos y una descripción según el diccionario. \n",
    "Esto facilita entender el propósito de cada columna.\n"
   ]
  },
  {
   "cell_type": "markdown",
   "id": "14a31015",
   "metadata": {},
   "source": [
    "## 3. Vista general del dataset"
   ]
  },
  {
   "cell_type": "code",
   "execution_count": null,
   "id": "e7c1a41e",
   "metadata": {},
   "outputs": [],
   "source": [
    "\n",
    "df.shape, df.head(3)\n"
   ]
  },
  {
   "cell_type": "markdown",
   "id": "5d96be03",
   "metadata": {},
   "source": [
    "\n",
    "**Explicación:** Se muestra el tamaño del dataset y las primeras filas para verificar su estructura.\n"
   ]
  },
  {
   "cell_type": "markdown",
   "id": "a8faf1bb",
   "metadata": {},
   "source": [
    "## 4. Valores faltantes"
   ]
  },
  {
   "cell_type": "code",
   "execution_count": null,
   "id": "d148637a",
   "metadata": {},
   "outputs": [],
   "source": [
    "\n",
    "faltantes = df.isnull().mean().sort_values(ascending=False) * 100\n",
    "plt.figure(figsize=(14,5))\n",
    "faltantes.head(20).plot(kind='bar', color='teal')\n",
    "plt.title(\"Porcentaje de valores nulos por variable (Top 20)\")\n",
    "plt.ylabel(\"% de nulos\")\n",
    "plt.show()\n"
   ]
  },
  {
   "cell_type": "markdown",
   "id": "22477e65",
   "metadata": {},
   "source": [
    "\n",
    "**Explicación:** Visualiza las variables con más valores faltantes. Esto ayuda a identificar posibles problemas de calidad de datos.\n"
   ]
  },
  {
   "cell_type": "markdown",
   "id": "9c63fa23",
   "metadata": {},
   "source": [
    "## 5. Resumen de variables numéricas"
   ]
  },
  {
   "cell_type": "code",
   "execution_count": null,
   "id": "a70f932d",
   "metadata": {},
   "outputs": [],
   "source": [
    "\n",
    "num_cols = df.select_dtypes(include=[np.number]).columns\n",
    "df[num_cols].describe().T\n"
   ]
  },
  {
   "cell_type": "markdown",
   "id": "a7c99f65",
   "metadata": {},
   "source": [
    "\n",
    "**Explicación:** Se presentan estadísticas descriptivas (promedio, desviación estándar, etc.) para las variables numéricas.\n"
   ]
  },
  {
   "cell_type": "markdown",
   "id": "6343490a",
   "metadata": {},
   "source": [
    "## 6. Variables categóricas destacadas"
   ]
  },
  {
   "cell_type": "code",
   "execution_count": null,
   "id": "7c99c618",
   "metadata": {},
   "outputs": [],
   "source": [
    "\n",
    "cat_cols = df.select_dtypes(include='object').columns[:5]\n",
    "\n",
    "for col in cat_cols:\n",
    "    desc = dic.loc[dic['variable'] == col, 'descripcion'].values\n",
    "    descripcion = desc[0] if len(desc) > 0 else col\n",
    "    print(f\"\\n### {col} – {descripcion}\")\n",
    "    print(df[col].value_counts(normalize=True).head(5))\n"
   ]
  },
  {
   "cell_type": "markdown",
   "id": "0ea0fc4d",
   "metadata": {},
   "source": [
    "\n",
    "**Explicación:** Se muestran las categorías más frecuentes de las variables cualitativas, junto con su descripción del diccionario.\n"
   ]
  },
  {
   "cell_type": "markdown",
   "id": "5de2e2fa",
   "metadata": {},
   "source": [
    "## 7. Correlación entre variables numéricas"
   ]
  },
  {
   "cell_type": "code",
   "execution_count": null,
   "id": "7ce85960",
   "metadata": {},
   "outputs": [],
   "source": [
    "\n",
    "plt.figure(figsize=(10,8))\n",
    "sns.heatmap(df[num_cols].corr(), cmap='viridis', center=0)\n",
    "plt.title(\"Mapa de calor de correlaciones numéricas\")\n",
    "plt.show()\n"
   ]
  },
  {
   "cell_type": "markdown",
   "id": "d38ae058",
   "metadata": {},
   "source": [
    "\n",
    "**Explicación:** Se observa la relación lineal entre variables numéricas. Una alta correlación puede indicar redundancia o asociaciones relevantes.\n"
   ]
  },
  {
   "cell_type": "markdown",
   "id": "505e27b3",
   "metadata": {},
   "source": [
    "## 8. Conclusiones generales"
   ]
  },
  {
   "cell_type": "markdown",
   "id": "94f28c89",
   "metadata": {},
   "source": [
    "\n",
    "- Se identificaron **134 variables**, con predominancia de tipo **categórico**.  \n",
    "- Se integró el **diccionario de datos**, lo que permite entender el contexto de cada variable.  \n",
    "- Existen variables con más del 50% de valores faltantes, lo cual requiere limpieza o imputación.  \n",
    "- Las estadísticas descriptivas y correlaciones servirán como base para modelado o análisis posteriores.\n"
   ]
  }
 ],
 "metadata": {
  "language_info": {
   "name": "python"
  }
 },
 "nbformat": 4,
 "nbformat_minor": 5
}
